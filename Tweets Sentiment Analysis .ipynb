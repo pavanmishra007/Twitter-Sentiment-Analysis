{
 "cells": [
  {
   "cell_type": "markdown",
   "id": "abb9002b",
   "metadata": {},
   "source": [
    "# Twitter Sentiment Analysis With SVM, Naive Bayes, Bagging, Random Forest, And LSTM"
   ]
  },
  {
   "cell_type": "markdown",
   "id": "72a0f61f",
   "metadata": {},
   "source": [
    "#                                     Importing Libraries"
   ]
  },
  {
   "cell_type": "code",
   "execution_count": 1,
   "id": "8cbdea8d",
   "metadata": {},
   "outputs": [
    {
     "name": "stderr",
     "output_type": "stream",
     "text": [
      "[nltk_data] Downloading package punkt to\n",
      "[nltk_data]     C:\\Users\\Pavan\\AppData\\Roaming\\nltk_data...\n",
      "[nltk_data]   Package punkt is already up-to-date!\n",
      "[nltk_data] Downloading package stopwords to\n",
      "[nltk_data]     C:\\Users\\Pavan\\AppData\\Roaming\\nltk_data...\n",
      "[nltk_data]   Package stopwords is already up-to-date!\n"
     ]
    }
   ],
   "source": [
    "import pandas as pd\n",
    "import seaborn as sns\n",
    "import re, nltk\n",
    "nltk.download('punkt')\n",
    "import matplotlib.pyplot as plt \n",
    "from sklearn.model_selection import train_test_split, StratifiedKFold, cross_val_score\n",
    "from sklearn import model_selection, naive_bayes, svm\n",
    "from sklearn.metrics import classification_report,confusion_matrix\n",
    "from sklearn.metrics import roc_auc_score\n",
    "from sklearn.metrics import recall_score\n",
    "from sklearn.metrics import f1_score\n",
    "from sklearn.metrics import confusion_matrix, accuracy_score\n",
    "from sklearn.model_selection import GridSearchCV\n",
    "from sklearn.metrics import precision_recall_curve\n",
    "from sklearn.metrics import f1_score\n",
    "from sklearn.metrics import auc\n",
    "from matplotlib import pyplot\n",
    "from sklearn.metrics import roc_curve\n",
    "from sklearn.metrics import roc_auc_score, accuracy_score\n",
    "import string\n",
    "from nltk.corpus import stopwords\n",
    "nltk.download('stopwords')\n",
    "from sklearn.feature_extraction.text import CountVectorizer, TfidfVectorizer\n",
    "from sklearn.naive_bayes import MultinomialNB, GaussianNB\n",
    "from sklearn.metrics import f1_score\n",
    "plt.style.use('fivethirtyeight')\n",
    "plt.style.use('dark_background')\n",
    "from sklearn.ensemble import AdaBoostClassifier\n",
    "from sklearn.model_selection import cross_val_score\n",
    "import numpy as np\n",
    "from sklearn.ensemble import BaggingClassifier\n",
    "from sklearn.ensemble import RandomForestClassifier\n",
    "from lime import lime_tabular\n",
    "from tensorflow.keras.layers import Embedding\n",
    "from tensorflow.keras.preprocessing.sequence import pad_sequences\n",
    "from tensorflow.keras.models import Sequential\n",
    "from tensorflow.keras.preprocessing.text import one_hot\n",
    "from tensorflow.keras.layers import LSTM, Bidirectional\n",
    "from tensorflow.keras.layers import Dense, Dropout\n",
    "\n",
    "\n",
    "\n",
    "\n",
    "\n",
    "\n",
    "\n"
   ]
  },
  {
   "cell_type": "code",
   "execution_count": 2,
   "id": "c170eceb",
   "metadata": {
    "scrolled": true
   },
   "outputs": [
    {
     "data": {
      "text/html": [
       "<div>\n",
       "<style scoped>\n",
       "    .dataframe tbody tr th:only-of-type {\n",
       "        vertical-align: middle;\n",
       "    }\n",
       "\n",
       "    .dataframe tbody tr th {\n",
       "        vertical-align: top;\n",
       "    }\n",
       "\n",
       "    .dataframe thead th {\n",
       "        text-align: right;\n",
       "    }\n",
       "</style>\n",
       "<table border=\"1\" class=\"dataframe\">\n",
       "  <thead>\n",
       "    <tr style=\"text-align: right;\">\n",
       "      <th></th>\n",
       "      <th>tweet_id</th>\n",
       "      <th>airline_sentiment</th>\n",
       "      <th>airline_sentiment_confidence</th>\n",
       "      <th>negativereason</th>\n",
       "      <th>negativereason_confidence</th>\n",
       "      <th>airline</th>\n",
       "      <th>airline_sentiment_gold</th>\n",
       "      <th>name</th>\n",
       "      <th>negativereason_gold</th>\n",
       "      <th>retweet_count</th>\n",
       "      <th>text</th>\n",
       "      <th>tweet_coord</th>\n",
       "      <th>tweet_created</th>\n",
       "      <th>tweet_location</th>\n",
       "      <th>user_timezone</th>\n",
       "    </tr>\n",
       "  </thead>\n",
       "  <tbody>\n",
       "    <tr>\n",
       "      <th>0</th>\n",
       "      <td>570306133677760513</td>\n",
       "      <td>neutral</td>\n",
       "      <td>1.0000</td>\n",
       "      <td>NaN</td>\n",
       "      <td>NaN</td>\n",
       "      <td>Virgin America</td>\n",
       "      <td>NaN</td>\n",
       "      <td>cairdin</td>\n",
       "      <td>NaN</td>\n",
       "      <td>0</td>\n",
       "      <td>@VirginAmerica What @dhepburn said.</td>\n",
       "      <td>NaN</td>\n",
       "      <td>2015-02-24 11:35:52 -0800</td>\n",
       "      <td>NaN</td>\n",
       "      <td>Eastern Time (US &amp; Canada)</td>\n",
       "    </tr>\n",
       "    <tr>\n",
       "      <th>1</th>\n",
       "      <td>570301130888122368</td>\n",
       "      <td>positive</td>\n",
       "      <td>0.3486</td>\n",
       "      <td>NaN</td>\n",
       "      <td>0.0000</td>\n",
       "      <td>Virgin America</td>\n",
       "      <td>NaN</td>\n",
       "      <td>jnardino</td>\n",
       "      <td>NaN</td>\n",
       "      <td>0</td>\n",
       "      <td>@VirginAmerica plus you've added commercials t...</td>\n",
       "      <td>NaN</td>\n",
       "      <td>2015-02-24 11:15:59 -0800</td>\n",
       "      <td>NaN</td>\n",
       "      <td>Pacific Time (US &amp; Canada)</td>\n",
       "    </tr>\n",
       "    <tr>\n",
       "      <th>2</th>\n",
       "      <td>570301083672813571</td>\n",
       "      <td>neutral</td>\n",
       "      <td>0.6837</td>\n",
       "      <td>NaN</td>\n",
       "      <td>NaN</td>\n",
       "      <td>Virgin America</td>\n",
       "      <td>NaN</td>\n",
       "      <td>yvonnalynn</td>\n",
       "      <td>NaN</td>\n",
       "      <td>0</td>\n",
       "      <td>@VirginAmerica I didn't today... Must mean I n...</td>\n",
       "      <td>NaN</td>\n",
       "      <td>2015-02-24 11:15:48 -0800</td>\n",
       "      <td>Lets Play</td>\n",
       "      <td>Central Time (US &amp; Canada)</td>\n",
       "    </tr>\n",
       "    <tr>\n",
       "      <th>3</th>\n",
       "      <td>570301031407624196</td>\n",
       "      <td>negative</td>\n",
       "      <td>1.0000</td>\n",
       "      <td>Bad Flight</td>\n",
       "      <td>0.7033</td>\n",
       "      <td>Virgin America</td>\n",
       "      <td>NaN</td>\n",
       "      <td>jnardino</td>\n",
       "      <td>NaN</td>\n",
       "      <td>0</td>\n",
       "      <td>@VirginAmerica it's really aggressive to blast...</td>\n",
       "      <td>NaN</td>\n",
       "      <td>2015-02-24 11:15:36 -0800</td>\n",
       "      <td>NaN</td>\n",
       "      <td>Pacific Time (US &amp; Canada)</td>\n",
       "    </tr>\n",
       "    <tr>\n",
       "      <th>4</th>\n",
       "      <td>570300817074462722</td>\n",
       "      <td>negative</td>\n",
       "      <td>1.0000</td>\n",
       "      <td>Can't Tell</td>\n",
       "      <td>1.0000</td>\n",
       "      <td>Virgin America</td>\n",
       "      <td>NaN</td>\n",
       "      <td>jnardino</td>\n",
       "      <td>NaN</td>\n",
       "      <td>0</td>\n",
       "      <td>@VirginAmerica and it's a really big bad thing...</td>\n",
       "      <td>NaN</td>\n",
       "      <td>2015-02-24 11:14:45 -0800</td>\n",
       "      <td>NaN</td>\n",
       "      <td>Pacific Time (US &amp; Canada)</td>\n",
       "    </tr>\n",
       "  </tbody>\n",
       "</table>\n",
       "</div>"
      ],
      "text/plain": [
       "             tweet_id airline_sentiment  airline_sentiment_confidence  \\\n",
       "0  570306133677760513           neutral                        1.0000   \n",
       "1  570301130888122368          positive                        0.3486   \n",
       "2  570301083672813571           neutral                        0.6837   \n",
       "3  570301031407624196          negative                        1.0000   \n",
       "4  570300817074462722          negative                        1.0000   \n",
       "\n",
       "  negativereason  negativereason_confidence         airline  \\\n",
       "0            NaN                        NaN  Virgin America   \n",
       "1            NaN                     0.0000  Virgin America   \n",
       "2            NaN                        NaN  Virgin America   \n",
       "3     Bad Flight                     0.7033  Virgin America   \n",
       "4     Can't Tell                     1.0000  Virgin America   \n",
       "\n",
       "  airline_sentiment_gold        name negativereason_gold  retweet_count  \\\n",
       "0                    NaN     cairdin                 NaN              0   \n",
       "1                    NaN    jnardino                 NaN              0   \n",
       "2                    NaN  yvonnalynn                 NaN              0   \n",
       "3                    NaN    jnardino                 NaN              0   \n",
       "4                    NaN    jnardino                 NaN              0   \n",
       "\n",
       "                                                text tweet_coord  \\\n",
       "0                @VirginAmerica What @dhepburn said.         NaN   \n",
       "1  @VirginAmerica plus you've added commercials t...         NaN   \n",
       "2  @VirginAmerica I didn't today... Must mean I n...         NaN   \n",
       "3  @VirginAmerica it's really aggressive to blast...         NaN   \n",
       "4  @VirginAmerica and it's a really big bad thing...         NaN   \n",
       "\n",
       "               tweet_created tweet_location               user_timezone  \n",
       "0  2015-02-24 11:35:52 -0800            NaN  Eastern Time (US & Canada)  \n",
       "1  2015-02-24 11:15:59 -0800            NaN  Pacific Time (US & Canada)  \n",
       "2  2015-02-24 11:15:48 -0800      Lets Play  Central Time (US & Canada)  \n",
       "3  2015-02-24 11:15:36 -0800            NaN  Pacific Time (US & Canada)  \n",
       "4  2015-02-24 11:14:45 -0800            NaN  Pacific Time (US & Canada)  "
      ]
     },
     "execution_count": 2,
     "metadata": {},
     "output_type": "execute_result"
    }
   ],
   "source": [
    "tweets=pd.read_csv(\"C:\\\\Users\\\\Pavan\\\\Downloads\\\\python\\\\Tweets.csv\")\n",
    "tweets.head()"
   ]
  },
  {
   "cell_type": "markdown",
   "id": "c820b921",
   "metadata": {},
   "source": [
    "Type Markdown and LaTeX:  𝛼2"
   ]
  },
  {
   "cell_type": "code",
   "execution_count": 3,
   "id": "eae7a046",
   "metadata": {
    "scrolled": true
   },
   "outputs": [
    {
     "data": {
      "text/plain": [
       "array(['neutral', 'positive', 'negative'], dtype=object)"
      ]
     },
     "execution_count": 3,
     "metadata": {},
     "output_type": "execute_result"
    }
   ],
   "source": [
    "#Unique value of sentiment\n",
    "tweets['airline_sentiment'].unique()"
   ]
  },
  {
   "cell_type": "code",
   "execution_count": 4,
   "id": "6c9e888f",
   "metadata": {},
   "outputs": [
    {
     "data": {
      "image/png": "[encoded data removed]",
      "text/plain": [
       "<Figure size 432x288 with 1 Axes>"
      ]
     },
     "metadata": {},
     "output_type": "display_data"
    }
   ],
   "source": [
    "#Unique value of sentiment plot\n",
    "ax = sns.countplot(x=\"airline_sentiment\", data=tweets)"
   ]
  },
  {
   "cell_type": "markdown",
   "id": "bfb8c169",
   "metadata": {},
   "source": [
    "Positive and neutral Tweets are almost equal.\n",
    "\n",
    "Negative tweets are more than double of neutral or positive sentiments."
   ]
  },
  {
   "cell_type": "code",
   "execution_count": 5,
   "id": "2f03d459",
   "metadata": {},
   "outputs": [
    {
     "data": {
      "image/png": "[encoded data removed]",
      "text/plain": [
       "<Figure size 720x720 with 1 Axes>"
      ]
     },
     "metadata": {},
     "output_type": "display_data"
    }
   ],
   "source": [
    "#Unique value of airline\n",
    "plt.figure(figsize=(10,10))\n",
    "ax = sns.countplot(x=\"airline\", data=tweets)"
   ]
  },
  {
   "cell_type": "markdown",
   "id": "1240142b",
   "metadata": {},
   "source": [
    "United has most number of flights\n",
    "\n",
    "Virgine America has the small number"
   ]
  },
  {
   "cell_type": "markdown",
   "id": "107a723d",
   "metadata": {},
   "source": [
    "#                                Utility Functions"
   ]
  },
  {
   "cell_type": "code",
   "execution_count": 6,
   "id": "e460c315",
   "metadata": {},
   "outputs": [],
   "source": [
    "# I am tokenizing the tweet and also taking tokens from second index onwards as initital to gives airline name and '@' and lowering thm and later making it back a sentence\n",
    "def clean_the_tweet(text):\n",
    "  tokens= nltk.word_tokenize(re.sub(\"[^a-zA-Z]\", \" \",text))\n",
    "  tokens = [token.lower() for token in tokens]\n",
    "  return ' '.join(tokens[2:])\n",
    "\n",
    "\n",
    "\n",
    "                 \n",
    "\n",
    "def text_process(msg):\n",
    "  nopunc =[char for char in msg if char not in string.punctuation]\n",
    "  nopunc=''.join(nopunc)\n",
    "  return ' '.join([word for word in nopunc.split() if word.lower() not in stopwords.words('english')])\n",
    "\n",
    "\n",
    " \n",
    "def check_scores(clf,X_train, X_test, y_train, y_test):\n",
    "\n",
    "  model=clf.fit(X_train, y_train)\n",
    "  predicted_class=model.predict(X_test)\n",
    "  predicted_class_train=model.predict(X_train)\n",
    "  test_probs = model.predict_proba(X_test)\n",
    "  test_probs = test_probs[:, 1]\n",
    "  yhat = model.predict(X_test)\n",
    "  lr_precision, lr_recall, _ = precision_recall_curve(y_test, test_probs)\n",
    "  lr_f1, lr_auc = f1_score(y_test, yhat), auc(lr_recall, lr_precision)\n",
    "\n",
    "\n",
    "  print('Train confusion matrix is: ',)\n",
    "  print(confusion_matrix(y_train, predicted_class_train))\n",
    "\n",
    "  print()\n",
    "  print('Test confusion matrix is: ')\n",
    "  print(confusion_matrix(y_test, predicted_class))\n",
    "  print()\n",
    "  print(classification_report(y_test,predicted_class)) \n",
    "  print() \n",
    "  train_accuracy = accuracy_score(y_train,predicted_class_train)\n",
    "  test_accuracy = accuracy_score(y_test,predicted_class)\n",
    "\n",
    "  print(\"Train accuracy score: \", train_accuracy)\n",
    "  print(\"Test accuracy score: \",test_accuracy )\n",
    "  print()\n",
    "  train_auc = roc_auc_score(y_train, clf.predict_proba(X_train)[:,1])\n",
    "  test_auc = roc_auc_score(y_test, clf.predict_proba(X_test)[:,1])\n",
    "\n",
    "  print(\"Train ROC-AUC score: \", train_auc)\n",
    "  print(\"Test ROC-AUC score: \", test_auc)\n",
    "  fig, (ax1, ax2) = plt.subplots(1, 2)\n",
    "\n",
    "  ax1.plot(lr_recall, lr_precision)\n",
    "  ax1.set(xlabel=\"Recall\", ylabel=\"Precision\")\n",
    "\n",
    "  plt.subplots_adjust(left=0.5,\n",
    "                    bottom=0.1, \n",
    "                    right=1.5, \n",
    "                    top=0.9, \n",
    "                    wspace=0.4, \n",
    "                    hspace=0.4)\n",
    "  print()\n",
    "  print('Are under Precision-Recall curve:', lr_f1)\n",
    "  \n",
    "  fpr, tpr, _ = roc_curve(y_test, test_probs)\n",
    "\n",
    "\n",
    "  ax2.plot(fpr, tpr)\n",
    "  ax2.set(xlabel='False Positive Rate', ylabel='True Positive Rate')\n",
    "\n",
    "  print(\"Area under ROC-AUC:\", lr_auc)\n",
    "  return train_accuracy, test_accuracy, train_auc, test_auc\n",
    "\n",
    "\n",
    "\n",
    "def grid_search(model, parameters, X_train, Y_train):\n",
    "  #Doing a grid\n",
    "  grid = GridSearchCV(estimator=model,\n",
    "                       param_grid = parameters,\n",
    "                       cv = 2, verbose=2, scoring='roc_auc')\n",
    "  #Fitting the grid \n",
    "  grid.fit(X_train,Y_train)\n",
    "  print()\n",
    "  print()\n",
    "  # Best model found using grid search\n",
    "  optimal_model = grid.best_estimator_\n",
    "  print('Best parameters are: ')\n",
    "  print( grid.best_params_)\n",
    "\n",
    "  return optimal_model\n",
    "  \n",
    "\n",
    "\n"
   ]
  },
  {
   "cell_type": "markdown",
   "id": "b5fee2b2",
   "metadata": {},
   "source": [
    "# Text Preparation"
   ]
  },
  {
   "cell_type": "code",
   "execution_count": 7,
   "id": "586b040e",
   "metadata": {},
   "outputs": [
    {
     "data": {
      "text/html": [
       "<div>\n",
       "<style scoped>\n",
       "    .dataframe tbody tr th:only-of-type {\n",
       "        vertical-align: middle;\n",
       "    }\n",
       "\n",
       "    .dataframe tbody tr th {\n",
       "        vertical-align: top;\n",
       "    }\n",
       "\n",
       "    .dataframe thead th {\n",
       "        text-align: right;\n",
       "    }\n",
       "</style>\n",
       "<table border=\"1\" class=\"dataframe\">\n",
       "  <thead>\n",
       "    <tr style=\"text-align: right;\">\n",
       "      <th></th>\n",
       "      <th>tweet_id</th>\n",
       "      <th>airline_sentiment</th>\n",
       "      <th>airline_sentiment_confidence</th>\n",
       "      <th>negativereason</th>\n",
       "      <th>negativereason_confidence</th>\n",
       "      <th>airline</th>\n",
       "      <th>airline_sentiment_gold</th>\n",
       "      <th>name</th>\n",
       "      <th>negativereason_gold</th>\n",
       "      <th>retweet_count</th>\n",
       "      <th>text</th>\n",
       "      <th>tweet_coord</th>\n",
       "      <th>tweet_created</th>\n",
       "      <th>tweet_location</th>\n",
       "      <th>user_timezone</th>\n",
       "      <th>cleaned_tweet</th>\n",
       "    </tr>\n",
       "  </thead>\n",
       "  <tbody>\n",
       "    <tr>\n",
       "      <th>1</th>\n",
       "      <td>570301130888122368</td>\n",
       "      <td>1</td>\n",
       "      <td>0.3486</td>\n",
       "      <td>NaN</td>\n",
       "      <td>0.0000</td>\n",
       "      <td>Virgin America</td>\n",
       "      <td>NaN</td>\n",
       "      <td>jnardino</td>\n",
       "      <td>NaN</td>\n",
       "      <td>0</td>\n",
       "      <td>@VirginAmerica plus you've added commercials t...</td>\n",
       "      <td>NaN</td>\n",
       "      <td>2015-02-24 11:15:59 -0800</td>\n",
       "      <td>NaN</td>\n",
       "      <td>Pacific Time (US &amp; Canada)</td>\n",
       "      <td>you ve added commercials to the experience tacky</td>\n",
       "    </tr>\n",
       "    <tr>\n",
       "      <th>3</th>\n",
       "      <td>570301031407624196</td>\n",
       "      <td>0</td>\n",
       "      <td>1.0000</td>\n",
       "      <td>Bad Flight</td>\n",
       "      <td>0.7033</td>\n",
       "      <td>Virgin America</td>\n",
       "      <td>NaN</td>\n",
       "      <td>jnardino</td>\n",
       "      <td>NaN</td>\n",
       "      <td>0</td>\n",
       "      <td>@VirginAmerica it's really aggressive to blast...</td>\n",
       "      <td>NaN</td>\n",
       "      <td>2015-02-24 11:15:36 -0800</td>\n",
       "      <td>NaN</td>\n",
       "      <td>Pacific Time (US &amp; Canada)</td>\n",
       "      <td>s really aggressive to blast obnoxious enterta...</td>\n",
       "    </tr>\n",
       "    <tr>\n",
       "      <th>4</th>\n",
       "      <td>570300817074462722</td>\n",
       "      <td>0</td>\n",
       "      <td>1.0000</td>\n",
       "      <td>Can't Tell</td>\n",
       "      <td>1.0000</td>\n",
       "      <td>Virgin America</td>\n",
       "      <td>NaN</td>\n",
       "      <td>jnardino</td>\n",
       "      <td>NaN</td>\n",
       "      <td>0</td>\n",
       "      <td>@VirginAmerica and it's a really big bad thing...</td>\n",
       "      <td>NaN</td>\n",
       "      <td>2015-02-24 11:14:45 -0800</td>\n",
       "      <td>NaN</td>\n",
       "      <td>Pacific Time (US &amp; Canada)</td>\n",
       "      <td>it s a really big bad thing about it</td>\n",
       "    </tr>\n",
       "    <tr>\n",
       "      <th>5</th>\n",
       "      <td>570300767074181121</td>\n",
       "      <td>0</td>\n",
       "      <td>1.0000</td>\n",
       "      <td>Can't Tell</td>\n",
       "      <td>0.6842</td>\n",
       "      <td>Virgin America</td>\n",
       "      <td>NaN</td>\n",
       "      <td>jnardino</td>\n",
       "      <td>NaN</td>\n",
       "      <td>0</td>\n",
       "      <td>@VirginAmerica seriously would pay $30 a fligh...</td>\n",
       "      <td>NaN</td>\n",
       "      <td>2015-02-24 11:14:33 -0800</td>\n",
       "      <td>NaN</td>\n",
       "      <td>Pacific Time (US &amp; Canada)</td>\n",
       "      <td>would pay a flight for seats that didn t have ...</td>\n",
       "    </tr>\n",
       "    <tr>\n",
       "      <th>6</th>\n",
       "      <td>570300616901320704</td>\n",
       "      <td>1</td>\n",
       "      <td>0.6745</td>\n",
       "      <td>NaN</td>\n",
       "      <td>0.0000</td>\n",
       "      <td>Virgin America</td>\n",
       "      <td>NaN</td>\n",
       "      <td>cjmcginnis</td>\n",
       "      <td>NaN</td>\n",
       "      <td>0</td>\n",
       "      <td>@VirginAmerica yes, nearly every time I fly VX...</td>\n",
       "      <td>NaN</td>\n",
       "      <td>2015-02-24 11:13:57 -0800</td>\n",
       "      <td>San Francisco CA</td>\n",
       "      <td>Pacific Time (US &amp; Canada)</td>\n",
       "      <td>nearly every time i fly vx this ear worm won t...</td>\n",
       "    </tr>\n",
       "  </tbody>\n",
       "</table>\n",
       "</div>"
      ],
      "text/plain": [
       "             tweet_id  airline_sentiment  airline_sentiment_confidence  \\\n",
       "1  570301130888122368                  1                        0.3486   \n",
       "3  570301031407624196                  0                        1.0000   \n",
       "4  570300817074462722                  0                        1.0000   \n",
       "5  570300767074181121                  0                        1.0000   \n",
       "6  570300616901320704                  1                        0.6745   \n",
       "\n",
       "  negativereason  negativereason_confidence         airline  \\\n",
       "1            NaN                     0.0000  Virgin America   \n",
       "3     Bad Flight                     0.7033  Virgin America   \n",
       "4     Can't Tell                     1.0000  Virgin America   \n",
       "5     Can't Tell                     0.6842  Virgin America   \n",
       "6            NaN                     0.0000  Virgin America   \n",
       "\n",
       "  airline_sentiment_gold        name negativereason_gold  retweet_count  \\\n",
       "1                    NaN    jnardino                 NaN              0   \n",
       "3                    NaN    jnardino                 NaN              0   \n",
       "4                    NaN    jnardino                 NaN              0   \n",
       "5                    NaN    jnardino                 NaN              0   \n",
       "6                    NaN  cjmcginnis                 NaN              0   \n",
       "\n",
       "                                                text tweet_coord  \\\n",
       "1  @VirginAmerica plus you've added commercials t...         NaN   \n",
       "3  @VirginAmerica it's really aggressive to blast...         NaN   \n",
       "4  @VirginAmerica and it's a really big bad thing...         NaN   \n",
       "5  @VirginAmerica seriously would pay $30 a fligh...         NaN   \n",
       "6  @VirginAmerica yes, nearly every time I fly VX...         NaN   \n",
       "\n",
       "               tweet_created    tweet_location               user_timezone  \\\n",
       "1  2015-02-24 11:15:59 -0800               NaN  Pacific Time (US & Canada)   \n",
       "3  2015-02-24 11:15:36 -0800               NaN  Pacific Time (US & Canada)   \n",
       "4  2015-02-24 11:14:45 -0800               NaN  Pacific Time (US & Canada)   \n",
       "5  2015-02-24 11:14:33 -0800               NaN  Pacific Time (US & Canada)   \n",
       "6  2015-02-24 11:13:57 -0800  San Francisco CA  Pacific Time (US & Canada)   \n",
       "\n",
       "                                       cleaned_tweet  \n",
       "1   you ve added commercials to the experience tacky  \n",
       "3  s really aggressive to blast obnoxious enterta...  \n",
       "4               it s a really big bad thing about it  \n",
       "5  would pay a flight for seats that didn t have ...  \n",
       "6  nearly every time i fly vx this ear worm won t...  "
      ]
     },
     "execution_count": 7,
     "metadata": {},
     "output_type": "execute_result"
    }
   ],
   "source": [
    "# removing neutral tweets\n",
    "\n",
    "tweets = tweets[tweets['airline_sentiment']!='neutral']\n",
    "tweets['cleaned_tweet'] = tweets['text'].apply(clean_the_tweet)\n",
    "\n",
    "tweets.head()\n",
    "tweets['airline_sentiment'] = tweets['airline_sentiment'].apply(lambda x: 1 if x =='positive' else 0)\n",
    "tweets.head()"
   ]
  },
  {
   "cell_type": "code",
   "execution_count": 8,
   "id": "46d93d29",
   "metadata": {},
   "outputs": [
    {
     "data": {
      "text/html": [
       "<div>\n",
       "<style scoped>\n",
       "    .dataframe tbody tr th:only-of-type {\n",
       "        vertical-align: middle;\n",
       "    }\n",
       "\n",
       "    .dataframe tbody tr th {\n",
       "        vertical-align: top;\n",
       "    }\n",
       "\n",
       "    .dataframe thead th {\n",
       "        text-align: right;\n",
       "    }\n",
       "</style>\n",
       "<table border=\"1\" class=\"dataframe\">\n",
       "  <thead>\n",
       "    <tr style=\"text-align: right;\">\n",
       "      <th></th>\n",
       "      <th>tweet_id</th>\n",
       "      <th>airline_sentiment</th>\n",
       "      <th>airline_sentiment_confidence</th>\n",
       "      <th>negativereason</th>\n",
       "      <th>negativereason_confidence</th>\n",
       "      <th>airline</th>\n",
       "      <th>airline_sentiment_gold</th>\n",
       "      <th>name</th>\n",
       "      <th>negativereason_gold</th>\n",
       "      <th>retweet_count</th>\n",
       "      <th>text</th>\n",
       "      <th>tweet_coord</th>\n",
       "      <th>tweet_created</th>\n",
       "      <th>tweet_location</th>\n",
       "      <th>user_timezone</th>\n",
       "      <th>cleaned_tweet</th>\n",
       "    </tr>\n",
       "  </thead>\n",
       "  <tbody>\n",
       "    <tr>\n",
       "      <th>0</th>\n",
       "      <td>570301130888122368</td>\n",
       "      <td>1</td>\n",
       "      <td>0.3486</td>\n",
       "      <td>NaN</td>\n",
       "      <td>0.0000</td>\n",
       "      <td>Virgin America</td>\n",
       "      <td>NaN</td>\n",
       "      <td>jnardino</td>\n",
       "      <td>NaN</td>\n",
       "      <td>0</td>\n",
       "      <td>@VirginAmerica plus you've added commercials t...</td>\n",
       "      <td>NaN</td>\n",
       "      <td>2015-02-24 11:15:59 -0800</td>\n",
       "      <td>NaN</td>\n",
       "      <td>Pacific Time (US &amp; Canada)</td>\n",
       "      <td>added commercials experience tacky</td>\n",
       "    </tr>\n",
       "    <tr>\n",
       "      <th>1</th>\n",
       "      <td>570301031407624196</td>\n",
       "      <td>0</td>\n",
       "      <td>1.0000</td>\n",
       "      <td>Bad Flight</td>\n",
       "      <td>0.7033</td>\n",
       "      <td>Virgin America</td>\n",
       "      <td>NaN</td>\n",
       "      <td>jnardino</td>\n",
       "      <td>NaN</td>\n",
       "      <td>0</td>\n",
       "      <td>@VirginAmerica it's really aggressive to blast...</td>\n",
       "      <td>NaN</td>\n",
       "      <td>2015-02-24 11:15:36 -0800</td>\n",
       "      <td>NaN</td>\n",
       "      <td>Pacific Time (US &amp; Canada)</td>\n",
       "      <td>really aggressive blast obnoxious entertainmen...</td>\n",
       "    </tr>\n",
       "    <tr>\n",
       "      <th>2</th>\n",
       "      <td>570300817074462722</td>\n",
       "      <td>0</td>\n",
       "      <td>1.0000</td>\n",
       "      <td>Can't Tell</td>\n",
       "      <td>1.0000</td>\n",
       "      <td>Virgin America</td>\n",
       "      <td>NaN</td>\n",
       "      <td>jnardino</td>\n",
       "      <td>NaN</td>\n",
       "      <td>0</td>\n",
       "      <td>@VirginAmerica and it's a really big bad thing...</td>\n",
       "      <td>NaN</td>\n",
       "      <td>2015-02-24 11:14:45 -0800</td>\n",
       "      <td>NaN</td>\n",
       "      <td>Pacific Time (US &amp; Canada)</td>\n",
       "      <td>really big bad thing</td>\n",
       "    </tr>\n",
       "    <tr>\n",
       "      <th>3</th>\n",
       "      <td>570300767074181121</td>\n",
       "      <td>0</td>\n",
       "      <td>1.0000</td>\n",
       "      <td>Can't Tell</td>\n",
       "      <td>0.6842</td>\n",
       "      <td>Virgin America</td>\n",
       "      <td>NaN</td>\n",
       "      <td>jnardino</td>\n",
       "      <td>NaN</td>\n",
       "      <td>0</td>\n",
       "      <td>@VirginAmerica seriously would pay $30 a fligh...</td>\n",
       "      <td>NaN</td>\n",
       "      <td>2015-02-24 11:14:33 -0800</td>\n",
       "      <td>NaN</td>\n",
       "      <td>Pacific Time (US &amp; Canada)</td>\n",
       "      <td>would pay flight seats playing really bad thin...</td>\n",
       "    </tr>\n",
       "    <tr>\n",
       "      <th>4</th>\n",
       "      <td>570300616901320704</td>\n",
       "      <td>1</td>\n",
       "      <td>0.6745</td>\n",
       "      <td>NaN</td>\n",
       "      <td>0.0000</td>\n",
       "      <td>Virgin America</td>\n",
       "      <td>NaN</td>\n",
       "      <td>cjmcginnis</td>\n",
       "      <td>NaN</td>\n",
       "      <td>0</td>\n",
       "      <td>@VirginAmerica yes, nearly every time I fly VX...</td>\n",
       "      <td>NaN</td>\n",
       "      <td>2015-02-24 11:13:57 -0800</td>\n",
       "      <td>San Francisco CA</td>\n",
       "      <td>Pacific Time (US &amp; Canada)</td>\n",
       "      <td>nearly every time fly vx ear worm go away</td>\n",
       "    </tr>\n",
       "  </tbody>\n",
       "</table>\n",
       "</div>"
      ],
      "text/plain": [
       "             tweet_id  airline_sentiment  airline_sentiment_confidence  \\\n",
       "0  570301130888122368                  1                        0.3486   \n",
       "1  570301031407624196                  0                        1.0000   \n",
       "2  570300817074462722                  0                        1.0000   \n",
       "3  570300767074181121                  0                        1.0000   \n",
       "4  570300616901320704                  1                        0.6745   \n",
       "\n",
       "  negativereason  negativereason_confidence         airline  \\\n",
       "0            NaN                     0.0000  Virgin America   \n",
       "1     Bad Flight                     0.7033  Virgin America   \n",
       "2     Can't Tell                     1.0000  Virgin America   \n",
       "3     Can't Tell                     0.6842  Virgin America   \n",
       "4            NaN                     0.0000  Virgin America   \n",
       "\n",
       "  airline_sentiment_gold        name negativereason_gold  retweet_count  \\\n",
       "0                    NaN    jnardino                 NaN              0   \n",
       "1                    NaN    jnardino                 NaN              0   \n",
       "2                    NaN    jnardino                 NaN              0   \n",
       "3                    NaN    jnardino                 NaN              0   \n",
       "4                    NaN  cjmcginnis                 NaN              0   \n",
       "\n",
       "                                                text tweet_coord  \\\n",
       "0  @VirginAmerica plus you've added commercials t...         NaN   \n",
       "1  @VirginAmerica it's really aggressive to blast...         NaN   \n",
       "2  @VirginAmerica and it's a really big bad thing...         NaN   \n",
       "3  @VirginAmerica seriously would pay $30 a fligh...         NaN   \n",
       "4  @VirginAmerica yes, nearly every time I fly VX...         NaN   \n",
       "\n",
       "               tweet_created    tweet_location               user_timezone  \\\n",
       "0  2015-02-24 11:15:59 -0800               NaN  Pacific Time (US & Canada)   \n",
       "1  2015-02-24 11:15:36 -0800               NaN  Pacific Time (US & Canada)   \n",
       "2  2015-02-24 11:14:45 -0800               NaN  Pacific Time (US & Canada)   \n",
       "3  2015-02-24 11:14:33 -0800               NaN  Pacific Time (US & Canada)   \n",
       "4  2015-02-24 11:13:57 -0800  San Francisco CA  Pacific Time (US & Canada)   \n",
       "\n",
       "                                       cleaned_tweet  \n",
       "0                 added commercials experience tacky  \n",
       "1  really aggressive blast obnoxious entertainmen...  \n",
       "2                               really big bad thing  \n",
       "3  would pay flight seats playing really bad thin...  \n",
       "4          nearly every time fly vx ear worm go away  "
      ]
     },
     "execution_count": 8,
     "metadata": {},
     "output_type": "execute_result"
    }
   ],
   "source": [
    "# Cleaning the tweets, removing punctuation marks\n",
    "tweets['cleaned_tweet'] = tweets['cleaned_tweet'].apply(text_process)\n",
    "tweets.reset_index(drop=True, inplace = True)\n",
    "tweets.head()"
   ]
  },
  {
   "cell_type": "code",
   "execution_count": 9,
   "id": "e7c6e2bd",
   "metadata": {},
   "outputs": [
    {
     "data": {
      "text/plain": [
       "array([1, 0], dtype=int64)"
      ]
     },
     "execution_count": 9,
     "metadata": {},
     "output_type": "execute_result"
    }
   ],
   "source": [
    "tweets['airline_sentiment'].unique()"
   ]
  },
  {
   "cell_type": "markdown",
   "id": "99c0030d",
   "metadata": {},
   "source": [
    "# Base SVM model with TF-IDF"
   ]
  },
  {
   "cell_type": "code",
   "execution_count": 10,
   "id": "c8b95c8c",
   "metadata": {},
   "outputs": [],
   "source": [
    "# Creating object of TF-Itweets vectorizer\n",
    "vectorizer= TfidfVectorizer(use_idf=True, lowercase=True)\n",
    "X_tf_itweets= vectorizer.fit_transform(tweets.cleaned_tweet)\n",
    "x_train, x_test, y_train, y_test = train_test_split(X_tf_itweets, tweets['airline_sentiment'], random_state=42)"
   ]
  },
  {
   "cell_type": "markdown",
   "id": "cd33b3e7",
   "metadata": {},
   "source": [
    "Type Markdown and LaTeX:  𝛼2"
   ]
  },
  {
   "cell_type": "code",
   "execution_count": 11,
   "id": "88b98d35",
   "metadata": {},
   "outputs": [
    {
     "name": "stdout",
     "output_type": "stream",
     "text": [
      "Train confusion matrix is: \n",
      "[[6824   31]\n",
      " [ 151 1649]]\n",
      "\n",
      "Test confusion matrix is: \n",
      "[[2291   32]\n",
      " [ 296  267]]\n",
      "\n",
      "              precision    recall  f1-score   support\n",
      "\n",
      "           0       0.89      0.99      0.93      2323\n",
      "           1       0.89      0.47      0.62       563\n",
      "\n",
      "    accuracy                           0.89      2886\n",
      "   macro avg       0.89      0.73      0.78      2886\n",
      "weighted avg       0.89      0.89      0.87      2886\n",
      "\n",
      "\n",
      "Train accuracy score:  0.9789716926632005\n",
      "Test accuracy score:  0.8863478863478863\n",
      "\n",
      "Train ROC-AUC score:  0.9969059080962801\n",
      "Test ROC-AUC score:  0.9291493131087764\n",
      "\n",
      "Are under Precision-Recall curve: 0.6194895591647333\n",
      "Area under ROC-AUC: 0.804974091622098\n"
     ]
    },
    {
     "data": {
      "image/png": "[encoded data removed]",
      "text/plain": [
       "<Figure size 432x288 with 2 Axes>"
      ]
     },
     "metadata": {},
     "output_type": "display_data"
    }
   ],
   "source": [
    "SVM = svm.SVC( probability=True)\n",
    "s_train_accuracy, s_test_accuracy, s_train_auc, s_test_auc = check_scores(SVM,x_train, x_test, y_train, y_test)\n"
   ]
  },
  {
   "cell_type": "markdown",
   "id": "5849e82f",
   "metadata": {},
   "source": [
    "With increase in FPR, TPR also increases.\n",
    "\n",
    "With increase in recall, precision decreases."
   ]
  },
  {
   "cell_type": "markdown",
   "id": "a75dad33",
   "metadata": {},
   "source": [
    "# After optimizing the hyperparameters with TF-IDF"
   ]
  },
  {
   "cell_type": "code",
   "execution_count": 12,
   "id": "13943a37",
   "metadata": {},
   "outputs": [
    {
     "name": "stdout",
     "output_type": "stream",
     "text": [
      "Fitting 2 folds for each of 18 candidates, totalling 36 fits\n",
      "[CV] END ..................C=0.1, gamma=scale, kernel=linear; total time=   7.6s\n",
      "[CV] END ..................C=0.1, gamma=scale, kernel=linear; total time=   7.4s\n",
      "[CV] END .....................C=0.1, gamma=scale, kernel=rbf; total time=  11.8s\n",
      "[CV] END .....................C=0.1, gamma=scale, kernel=rbf; total time=  11.5s\n",
      "[CV] END .................C=0.1, gamma=scale, kernel=sigmoid; total time=   8.1s\n",
      "[CV] END .................C=0.1, gamma=scale, kernel=sigmoid; total time=   7.8s\n",
      "[CV] END ...................C=0.1, gamma=auto, kernel=linear; total time=   7.7s\n",
      "[CV] END ...................C=0.1, gamma=auto, kernel=linear; total time=   7.6s\n",
      "[CV] END ......................C=0.1, gamma=auto, kernel=rbf; total time=   5.9s\n",
      "[CV] END ......................C=0.1, gamma=auto, kernel=rbf; total time=   5.9s\n",
      "[CV] END ..................C=0.1, gamma=auto, kernel=sigmoid; total time=   5.7s\n",
      "[CV] END ..................C=0.1, gamma=auto, kernel=sigmoid; total time=   5.7s\n",
      "[CV] END ....................C=1, gamma=scale, kernel=linear; total time=   7.4s\n",
      "[CV] END ....................C=1, gamma=scale, kernel=linear; total time=   7.2s\n",
      "[CV] END .......................C=1, gamma=scale, kernel=rbf; total time=  12.8s\n",
      "[CV] END .......................C=1, gamma=scale, kernel=rbf; total time=  13.2s\n",
      "[CV] END ...................C=1, gamma=scale, kernel=sigmoid; total time=   7.5s\n",
      "[CV] END ...................C=1, gamma=scale, kernel=sigmoid; total time=   7.1s\n",
      "[CV] END .....................C=1, gamma=auto, kernel=linear; total time=   7.5s\n",
      "[CV] END .....................C=1, gamma=auto, kernel=linear; total time=   7.4s\n",
      "[CV] END ........................C=1, gamma=auto, kernel=rbf; total time=   6.1s\n",
      "[CV] END ........................C=1, gamma=auto, kernel=rbf; total time=   5.9s\n",
      "[CV] END ....................C=1, gamma=auto, kernel=sigmoid; total time=   5.8s\n",
      "[CV] END ....................C=1, gamma=auto, kernel=sigmoid; total time=   5.8s\n",
      "[CV] END ...................C=10, gamma=scale, kernel=linear; total time=   7.9s\n",
      "[CV] END ...................C=10, gamma=scale, kernel=linear; total time=   8.0s\n",
      "[CV] END ......................C=10, gamma=scale, kernel=rbf; total time=  14.6s\n",
      "[CV] END ......................C=10, gamma=scale, kernel=rbf; total time=  15.3s\n",
      "[CV] END ..................C=10, gamma=scale, kernel=sigmoid; total time=  10.5s\n",
      "[CV] END ..................C=10, gamma=scale, kernel=sigmoid; total time=   9.8s\n",
      "[CV] END ....................C=10, gamma=auto, kernel=linear; total time=  18.2s\n",
      "[CV] END ....................C=10, gamma=auto, kernel=linear; total time=   7.7s\n",
      "[CV] END .......................C=10, gamma=auto, kernel=rbf; total time=   7.4s\n",
      "[CV] END .......................C=10, gamma=auto, kernel=rbf; total time=   7.3s\n",
      "[CV] END ...................C=10, gamma=auto, kernel=sigmoid; total time=   6.9s\n",
      "[CV] END ...................C=10, gamma=auto, kernel=sigmoid; total time=   6.9s\n",
      "\n",
      "\n",
      "Best parameters are: \n",
      "{'C': 10, 'gamma': 'scale', 'kernel': 'rbf'}\n"
     ]
    }
   ],
   "source": [
    "# Tuning the hyperparameters\n",
    "parameters ={\n",
    "    \"C\":[0.1,1,10],\n",
    "    \"kernel\":['linear', 'rbf', 'sigmoid'],\n",
    "    \"gamma\":['scale', 'auto']\n",
    "}\n",
    "\n",
    "\n",
    "\n",
    "svm_optimal = grid_search(svm.SVC(probability=True), parameters,x_train, y_train)"
   ]
  },
  {
   "cell_type": "code",
   "execution_count": 13,
   "id": "96ca7e83",
   "metadata": {},
   "outputs": [
    {
     "name": "stdout",
     "output_type": "stream",
     "text": [
      "Train confusion matrix is: \n",
      "[[6829   26]\n",
      " [   5 1795]]\n",
      "\n",
      "Test confusion matrix is: \n",
      "[[2272   51]\n",
      " [ 245  318]]\n",
      "\n",
      "              precision    recall  f1-score   support\n",
      "\n",
      "           0       0.90      0.98      0.94      2323\n",
      "           1       0.86      0.56      0.68       563\n",
      "\n",
      "    accuracy                           0.90      2886\n",
      "   macro avg       0.88      0.77      0.81      2886\n",
      "weighted avg       0.89      0.90      0.89      2886\n",
      "\n",
      "\n",
      "Train accuracy score:  0.996418255343732\n",
      "Test accuracy score:  0.8974358974358975\n",
      "\n",
      "Train ROC-AUC score:  0.9987310154793744\n",
      "Test ROC-AUC score:  0.9287532429202454\n",
      "\n",
      "Are under Precision-Recall curve: 0.6824034334763949\n",
      "Area under ROC-AUC: 0.8075570185290604\n"
     ]
    },
    {
     "data": {
      "image/png": "[encoded data removed]",
      "text/plain": [
       "<Figure size 432x288 with 2 Axes>"
      ]
     },
     "metadata": {},
     "output_type": "display_data"
    }
   ],
   "source": [
    "so_train_accuracy, so_test_accuracy, so_train_auc, so_test_auc = check_scores(svm_optimal,x_train, x_test, y_train, y_test)"
   ]
  },
  {
   "cell_type": "markdown",
   "id": "58da4855",
   "metadata": {},
   "source": [
    "# Using Multinomial Naive Bayes"
   ]
  },
  {
   "cell_type": "code",
   "execution_count": 14,
   "id": "df288634",
   "metadata": {},
   "outputs": [
    {
     "name": "stdout",
     "output_type": "stream",
     "text": [
      "Train confusion matrix is: \n",
      "[[6853    2]\n",
      " [1296  504]]\n",
      "\n",
      "Test confusion matrix is: \n",
      "[[2318    5]\n",
      " [ 474   89]]\n",
      "\n",
      "              precision    recall  f1-score   support\n",
      "\n",
      "           0       0.83      1.00      0.91      2323\n",
      "           1       0.95      0.16      0.27       563\n",
      "\n",
      "    accuracy                           0.83      2886\n",
      "   macro avg       0.89      0.58      0.59      2886\n",
      "weighted avg       0.85      0.83      0.78      2886\n",
      "\n",
      "\n",
      "Train accuracy score:  0.8500288850375506\n",
      "Test accuracy score:  0.834026334026334\n",
      "\n",
      "Train ROC-AUC score:  0.9561105438041981\n",
      "Test ROC-AUC score:  0.9013005324009118\n",
      "\n",
      "Are under Precision-Recall curve: 0.2709284627092846\n",
      "Area under ROC-AUC: 0.7374839454006489\n"
     ]
    },
    {
     "data": {
      "image/png": "[encoded data removed]",
      "text/plain": [
       "<Figure size 432x288 with 2 Axes>"
      ]
     },
     "metadata": {},
     "output_type": "display_data"
    }
   ],
   "source": [
    "m_train_accuracy, m_test_accuracy, m_train_auc, m_test_auc = check_scores(MultinomialNB(),x_train, x_test, y_train, y_test)\n"
   ]
  },
  {
   "cell_type": "markdown",
   "id": "8f3bf1a6",
   "metadata": {},
   "source": [
    "# Using Gaussian Naive Bayes "
   ]
  },
  {
   "cell_type": "code",
   "execution_count": 15,
   "id": "f2d44a32",
   "metadata": {},
   "outputs": [
    {
     "name": "stdout",
     "output_type": "stream",
     "text": [
      "Train confusion matrix is: \n",
      "[[5543 1312]\n",
      " [   0 1800]]\n",
      "\n",
      "Test confusion matrix is: \n",
      "[[1623  700]\n",
      " [ 181  382]]\n",
      "\n",
      "              precision    recall  f1-score   support\n",
      "\n",
      "           0       0.90      0.70      0.79      2323\n",
      "           1       0.35      0.68      0.46       563\n",
      "\n",
      "    accuracy                           0.69      2886\n",
      "   macro avg       0.63      0.69      0.63      2886\n",
      "weighted avg       0.79      0.69      0.72      2886\n",
      "\n",
      "\n",
      "Train accuracy score:  0.8484113229347198\n",
      "Test accuracy score:  0.6947331947331947\n",
      "\n",
      "Train ROC-AUC score:  0.9043034281546316\n",
      "Test ROC-AUC score:  0.688586755810495\n",
      "\n",
      "Are under Precision-Recall curve: 0.4644376899696049\n",
      "Area under ROC-AUC: 0.5471372315951626\n"
     ]
    },
    {
     "data": {
      "image/png": "[encoded data removed]",
      "text/plain": [
       "<Figure size 432x288 with 2 Axes>"
      ]
     },
     "metadata": {},
     "output_type": "display_data"
    }
   ],
   "source": [
    "g_train_accuracy, g_test_accuracy, g_train_auc, g_test_auc=check_scores(GaussianNB(),x_train.toarray(), x_test.toarray(), y_train, y_test)"
   ]
  },
  {
   "cell_type": "markdown",
   "id": "533f6b65",
   "metadata": {},
   "source": [
    "It is interesting to see in Naive Bayes, we are getting linear relationship."
   ]
  },
  {
   "cell_type": "markdown",
   "id": "589730b9",
   "metadata": {},
   "source": [
    "# Using AdaBoost"
   ]
  },
  {
   "cell_type": "markdown",
   "id": "5e48abf9",
   "metadata": {},
   "source": [
    "base estimator here is: decision stump"
   ]
  },
  {
   "cell_type": "code",
   "execution_count": 16,
   "id": "733ecb2c",
   "metadata": {},
   "outputs": [
    {
     "name": "stdout",
     "output_type": "stream",
     "text": [
      "Train confusion matrix is: \n",
      "[[6655  200]\n",
      " [1012  788]]\n",
      "\n",
      "Test confusion matrix is: \n",
      "[[2251   72]\n",
      " [ 328  235]]\n",
      "\n",
      "              precision    recall  f1-score   support\n",
      "\n",
      "           0       0.87      0.97      0.92      2323\n",
      "           1       0.77      0.42      0.54       563\n",
      "\n",
      "    accuracy                           0.86      2886\n",
      "   macro avg       0.82      0.69      0.73      2886\n",
      "weighted avg       0.85      0.86      0.84      2886\n",
      "\n",
      "\n",
      "Train accuracy score:  0.8599653379549393\n",
      "Test accuracy score:  0.8613998613998614\n",
      "\n",
      "Train ROC-AUC score:  0.8689482940270687\n",
      "Test ROC-AUC score:  0.8373803091947158\n",
      "\n",
      "Are under Precision-Recall curve: 0.5402298850574713\n",
      "Area under ROC-AUC: 0.6298876361965743\n"
     ]
    },
    {
     "data": {
      "image/png": "[encoded data removed]",
      "text/plain": [
       "<Figure size 432x288 with 2 Axes>"
      ]
     },
     "metadata": {},
     "output_type": "display_data"
    }
   ],
   "source": [
    "a_train_accuracy, a_test_accuracy, a_train_auc, a_test_auc=check_scores(AdaBoostClassifier(),x_train,x_test, y_train, y_test)"
   ]
  },
  {
   "cell_type": "code",
   "execution_count": 17,
   "id": "5ab3df30",
   "metadata": {},
   "outputs": [
    {
     "name": "stdout",
     "output_type": "stream",
     "text": [
      "Fitting 2 folds for each of 40 candidates, totalling 80 fits\n",
      "[CV] END algorithm=SAMME, learning_rate=0.0001, n_estimators=10; total time=   0.5s\n",
      "[CV] END algorithm=SAMME, learning_rate=0.0001, n_estimators=10; total time=   0.5s\n",
      "[CV] END algorithm=SAMME, learning_rate=0.0001, n_estimators=50; total time=   2.7s\n",
      "[CV] END algorithm=SAMME, learning_rate=0.0001, n_estimators=50; total time=   2.5s\n",
      "[CV] END algorithm=SAMME, learning_rate=0.0001, n_estimators=100; total time=   5.2s\n",
      "[CV] END algorithm=SAMME, learning_rate=0.0001, n_estimators=100; total time=   6.0s\n",
      "[CV] END algorithm=SAMME, learning_rate=0.0001, n_estimators=500; total time=  29.0s\n",
      "[CV] END algorithm=SAMME, learning_rate=0.0001, n_estimators=500; total time=  36.9s\n",
      "[CV] END algorithm=SAMME, learning_rate=0.001, n_estimators=10; total time=   0.5s\n",
      "[CV] END algorithm=SAMME, learning_rate=0.001, n_estimators=10; total time=   0.5s\n",
      "[CV] END algorithm=SAMME, learning_rate=0.001, n_estimators=50; total time=   3.1s\n",
      "[CV] END algorithm=SAMME, learning_rate=0.001, n_estimators=50; total time=   4.7s\n",
      "[CV] END algorithm=SAMME, learning_rate=0.001, n_estimators=100; total time=   6.5s\n",
      "[CV] END algorithm=SAMME, learning_rate=0.001, n_estimators=100; total time=   8.1s\n",
      "[CV] END algorithm=SAMME, learning_rate=0.001, n_estimators=500; total time=  36.4s\n",
      "[CV] END algorithm=SAMME, learning_rate=0.001, n_estimators=500; total time=  29.1s\n",
      "[CV] END algorithm=SAMME, learning_rate=0.01, n_estimators=10; total time=   0.5s\n",
      "[CV] END algorithm=SAMME, learning_rate=0.01, n_estimators=10; total time=   0.5s\n",
      "[CV] END algorithm=SAMME, learning_rate=0.01, n_estimators=50; total time=   2.7s\n",
      "[CV] END algorithm=SAMME, learning_rate=0.01, n_estimators=50; total time=   2.9s\n",
      "[CV] END algorithm=SAMME, learning_rate=0.01, n_estimators=100; total time=   5.7s\n",
      "[CV] END algorithm=SAMME, learning_rate=0.01, n_estimators=100; total time=   5.6s\n",
      "[CV] END algorithm=SAMME, learning_rate=0.01, n_estimators=500; total time=  26.8s\n",
      "[CV] END algorithm=SAMME, learning_rate=0.01, n_estimators=500; total time=  25.5s\n",
      "[CV] END algorithm=SAMME, learning_rate=0.1, n_estimators=10; total time=   0.4s\n",
      "[CV] END algorithm=SAMME, learning_rate=0.1, n_estimators=10; total time=   0.4s\n",
      "[CV] END algorithm=SAMME, learning_rate=0.1, n_estimators=50; total time=   2.5s\n",
      "[CV] END algorithm=SAMME, learning_rate=0.1, n_estimators=50; total time=   2.5s\n",
      "[CV] END algorithm=SAMME, learning_rate=0.1, n_estimators=100; total time=   5.0s\n",
      "[CV] END algorithm=SAMME, learning_rate=0.1, n_estimators=100; total time=   5.0s\n",
      "[CV] END algorithm=SAMME, learning_rate=0.1, n_estimators=500; total time=  26.6s\n",
      "[CV] END algorithm=SAMME, learning_rate=0.1, n_estimators=500; total time=  26.8s\n",
      "[CV] END algorithm=SAMME, learning_rate=1.0, n_estimators=10; total time=   0.5s\n",
      "[CV] END algorithm=SAMME, learning_rate=1.0, n_estimators=10; total time=   0.4s\n",
      "[CV] END algorithm=SAMME, learning_rate=1.0, n_estimators=50; total time=   2.6s\n",
      "[CV] END algorithm=SAMME, learning_rate=1.0, n_estimators=50; total time=   2.6s\n",
      "[CV] END algorithm=SAMME, learning_rate=1.0, n_estimators=100; total time=   5.2s\n",
      "[CV] END algorithm=SAMME, learning_rate=1.0, n_estimators=100; total time=   6.8s\n",
      "[CV] END algorithm=SAMME, learning_rate=1.0, n_estimators=500; total time=  29.2s\n",
      "[CV] END algorithm=SAMME, learning_rate=1.0, n_estimators=500; total time=  31.1s\n",
      "[CV] END algorithm=SAMME.R, learning_rate=0.0001, n_estimators=10; total time=   0.9s\n",
      "[CV] END algorithm=SAMME.R, learning_rate=0.0001, n_estimators=10; total time=   0.7s\n",
      "[CV] END algorithm=SAMME.R, learning_rate=0.0001, n_estimators=50; total time=   3.4s\n",
      "[CV] END algorithm=SAMME.R, learning_rate=0.0001, n_estimators=50; total time=   3.0s\n",
      "[CV] END algorithm=SAMME.R, learning_rate=0.0001, n_estimators=100; total time=   6.0s\n",
      "[CV] END algorithm=SAMME.R, learning_rate=0.0001, n_estimators=100; total time=   5.8s\n",
      "[CV] END algorithm=SAMME.R, learning_rate=0.0001, n_estimators=500; total time=  29.4s\n",
      "[CV] END algorithm=SAMME.R, learning_rate=0.0001, n_estimators=500; total time=  27.7s\n",
      "[CV] END algorithm=SAMME.R, learning_rate=0.001, n_estimators=10; total time=   0.4s\n",
      "[CV] END algorithm=SAMME.R, learning_rate=0.001, n_estimators=10; total time=   0.4s\n",
      "[CV] END algorithm=SAMME.R, learning_rate=0.001, n_estimators=50; total time=   2.9s\n",
      "[CV] END algorithm=SAMME.R, learning_rate=0.001, n_estimators=50; total time=   2.7s\n",
      "[CV] END algorithm=SAMME.R, learning_rate=0.001, n_estimators=100; total time=   5.3s\n",
      "[CV] END algorithm=SAMME.R, learning_rate=0.001, n_estimators=100; total time=   5.3s\n",
      "[CV] END algorithm=SAMME.R, learning_rate=0.001, n_estimators=500; total time=  26.9s\n",
      "[CV] END algorithm=SAMME.R, learning_rate=0.001, n_estimators=500; total time=  26.7s\n",
      "[CV] END algorithm=SAMME.R, learning_rate=0.01, n_estimators=10; total time=   0.4s\n",
      "[CV] END algorithm=SAMME.R, learning_rate=0.01, n_estimators=10; total time=   0.4s\n",
      "[CV] END algorithm=SAMME.R, learning_rate=0.01, n_estimators=50; total time=   2.6s\n",
      "[CV] END algorithm=SAMME.R, learning_rate=0.01, n_estimators=50; total time=   2.6s\n",
      "[CV] END algorithm=SAMME.R, learning_rate=0.01, n_estimators=100; total time=   5.5s\n",
      "[CV] END algorithm=SAMME.R, learning_rate=0.01, n_estimators=100; total time=   5.4s\n",
      "[CV] END algorithm=SAMME.R, learning_rate=0.01, n_estimators=500; total time=  27.4s\n",
      "[CV] END algorithm=SAMME.R, learning_rate=0.01, n_estimators=500; total time=  30.9s\n",
      "[CV] END algorithm=SAMME.R, learning_rate=0.1, n_estimators=10; total time=   0.4s\n",
      "[CV] END algorithm=SAMME.R, learning_rate=0.1, n_estimators=10; total time=   0.4s\n",
      "[CV] END algorithm=SAMME.R, learning_rate=0.1, n_estimators=50; total time=   2.6s\n",
      "[CV] END algorithm=SAMME.R, learning_rate=0.1, n_estimators=50; total time=   2.6s\n",
      "[CV] END algorithm=SAMME.R, learning_rate=0.1, n_estimators=100; total time=   5.3s\n",
      "[CV] END algorithm=SAMME.R, learning_rate=0.1, n_estimators=100; total time=   5.3s\n",
      "[CV] END algorithm=SAMME.R, learning_rate=0.1, n_estimators=500; total time=  34.5s\n",
      "[CV] END algorithm=SAMME.R, learning_rate=0.1, n_estimators=500; total time=  33.5s\n",
      "[CV] END algorithm=SAMME.R, learning_rate=1.0, n_estimators=10; total time=   0.4s\n",
      "[CV] END algorithm=SAMME.R, learning_rate=1.0, n_estimators=10; total time=   0.4s\n",
      "[CV] END algorithm=SAMME.R, learning_rate=1.0, n_estimators=50; total time=   2.6s\n",
      "[CV] END algorithm=SAMME.R, learning_rate=1.0, n_estimators=50; total time=   2.6s\n",
      "[CV] END algorithm=SAMME.R, learning_rate=1.0, n_estimators=100; total time=   5.3s\n",
      "[CV] END algorithm=SAMME.R, learning_rate=1.0, n_estimators=100; total time=   5.5s\n",
      "[CV] END algorithm=SAMME.R, learning_rate=1.0, n_estimators=500; total time=  27.3s\n",
      "[CV] END algorithm=SAMME.R, learning_rate=1.0, n_estimators=500; total time=  26.9s\n",
      "\n",
      "\n",
      "Best parameters are: \n",
      "{'algorithm': 'SAMME.R', 'learning_rate': 0.1, 'n_estimators': 500}\n"
     ]
    }
   ],
   "source": [
    "params = {'n_estimators': [10, 50, 100, 500],\n",
    " 'learning_rate': [0.0001, 0.001, 0.01, 0.1, 1.0],\n",
    " 'algorithm': ['SAMME', 'SAMME.R']}\n",
    "\n",
    "ada_optimal_model = grid_search(AdaBoostClassifier(), params,x_train, y_train)"
   ]
  },
  {
   "cell_type": "code",
   "execution_count": 18,
   "id": "7774b63d",
   "metadata": {},
   "outputs": [
    {
     "name": "stdout",
     "output_type": "stream",
     "text": [
      "Train confusion matrix is: \n",
      "[[6761   94]\n",
      " [1043  757]]\n",
      "\n",
      "Test confusion matrix is: \n",
      "[[2278   45]\n",
      " [ 340  223]]\n",
      "\n",
      "              precision    recall  f1-score   support\n",
      "\n",
      "           0       0.87      0.98      0.92      2323\n",
      "           1       0.83      0.40      0.54       563\n",
      "\n",
      "    accuracy                           0.87      2886\n",
      "   macro avg       0.85      0.69      0.73      2886\n",
      "weighted avg       0.86      0.87      0.85      2886\n",
      "\n",
      "\n",
      "Train accuracy score:  0.868630849220104\n",
      "Test accuracy score:  0.8665973665973666\n",
      "\n",
      "Train ROC-AUC score:  0.9218550936056407\n",
      "Test ROC-AUC score:  0.8779339205061136\n",
      "\n",
      "Are under Precision-Recall curve: 0.5367027677496993\n",
      "Area under ROC-AUC: 0.7021179688268547\n"
     ]
    },
    {
     "data": {
      "image/png": "[encoded data removed]",
      "text/plain": [
       "<Figure size 432x288 with 2 Axes>"
      ]
     },
     "metadata": {},
     "output_type": "display_data"
    }
   ],
   "source": [
    "ao_train_accuracy, ao_test_accuracy, ao_train_auc, ao_test_auc=check_scores(ada_optimal_model,x_train,x_test, y_train, y_test)"
   ]
  },
  {
   "cell_type": "markdown",
   "id": "0b2e7aa0",
   "metadata": {},
   "source": [
    "# Bagging with MultinomialNB "
   ]
  },
  {
   "cell_type": "code",
   "execution_count": 19,
   "id": "29d6e390",
   "metadata": {},
   "outputs": [
    {
     "name": "stdout",
     "output_type": "stream",
     "text": [
      "Train confusion matrix is: \n",
      "[[6853    2]\n",
      " [1330  470]]\n",
      "\n",
      "Test confusion matrix is: \n",
      "[[2318    5]\n",
      " [ 478   85]]\n",
      "\n",
      "              precision    recall  f1-score   support\n",
      "\n",
      "           0       0.83      1.00      0.91      2323\n",
      "           1       0.94      0.15      0.26       563\n",
      "\n",
      "    accuracy                           0.83      2886\n",
      "   macro avg       0.89      0.57      0.58      2886\n",
      "weighted avg       0.85      0.83      0.78      2886\n",
      "\n",
      "\n",
      "Train accuracy score:  0.8461005199306759\n",
      "Test accuracy score:  0.8326403326403327\n",
      "\n",
      "Train ROC-AUC score:  0.9520475727368506\n",
      "Test ROC-AUC score:  0.8997193101038422\n",
      "\n",
      "Are under Precision-Recall curve: 0.2603369065849923\n",
      "Area under ROC-AUC: 0.7331628247948878\n"
     ]
    },
    {
     "data": {
      "image/png": "[encoded data removed]",
      "text/plain": [
       "<Figure size 432x288 with 2 Axes>"
      ]
     },
     "metadata": {},
     "output_type": "display_data"
    }
   ],
   "source": [
    "kfold = model_selection.KFold(n_splits = 3)\n",
    "  \n",
    "# bagging classifier\n",
    "model = BaggingClassifier(base_estimator = MultinomialNB(),\n",
    "                          n_estimators = 100)\n",
    "\n",
    "b_train_accuracy, b_test_accuracy, b_train_auc, b_test_auc= check_scores(model,x_train,x_test, y_train, y_test)\n"
   ]
  },
  {
   "cell_type": "markdown",
   "id": "c3841494",
   "metadata": {},
   "source": [
    "# Using Random Forest "
   ]
  },
  {
   "cell_type": "code",
   "execution_count": 20,
   "id": "bddb6595",
   "metadata": {},
   "outputs": [
    {
     "name": "stdout",
     "output_type": "stream",
     "text": [
      "Train confusion matrix is: \n",
      "[[6829   26]\n",
      " [   5 1795]]\n",
      "\n",
      "Test confusion matrix is: \n",
      "[[2215  108]\n",
      " [ 238  325]]\n",
      "\n",
      "              precision    recall  f1-score   support\n",
      "\n",
      "           0       0.90      0.95      0.93      2323\n",
      "           1       0.75      0.58      0.65       563\n",
      "\n",
      "    accuracy                           0.88      2886\n",
      "   macro avg       0.83      0.77      0.79      2886\n",
      "weighted avg       0.87      0.88      0.87      2886\n",
      "\n",
      "\n",
      "Train accuracy score:  0.996418255343732\n",
      "Test accuracy score:  0.8801108801108801\n",
      "\n",
      "Train ROC-AUC score:  0.9982442661479861\n",
      "Test ROC-AUC score:  0.8956867344777572\n",
      "\n",
      "Are under Precision-Recall curve: 0.6526104417670683\n",
      "Area under ROC-AUC: 0.7441899264879837\n"
     ]
    },
    {
     "data": {
      "image/png": "[encoded data removed]",
      "text/plain": [
       "<Figure size 432x288 with 2 Axes>"
      ]
     },
     "metadata": {},
     "output_type": "display_data"
    }
   ],
   "source": [
    "r_train_accuracy, r_test_accuracy, r_train_auc, r_test_auc= check_scores(RandomForestClassifier(random_state=0).fit(x_train, y_train), x_train,x_test,y_train,y_test)"
   ]
  },
  {
   "cell_type": "markdown",
   "id": "d87add95",
   "metadata": {},
   "source": [
    "# Using LSTM"
   ]
  },
  {
   "cell_type": "code",
   "execution_count": 21,
   "id": "5f945022",
   "metadata": {},
   "outputs": [
    {
     "data": {
      "text/plain": [
       "((11541, 124), (11541,))"
      ]
     },
     "execution_count": 21,
     "metadata": {},
     "output_type": "execute_result"
    }
   ],
   "source": [
    "corpus = [tweets['cleaned_tweet'][i] for i in range( len(tweets))]\n",
    "\n",
    "voc_size=5000\n",
    "\n",
    "onehot_=[one_hot(words,voc_size)for words in corpus] \n",
    "\n",
    "max_sent_length=max([len(i) for i in corpus])\n",
    "\n",
    "embedded_docs=pad_sequences(onehot_,padding='pre',maxlen=max_sent_length)\n",
    "    \n",
    "embedding_vector_features=40\n",
    "model=Sequential()\n",
    "model.add(Embedding(voc_size,embedding_vector_features,input_length=max_sent_length))\n",
    "model.add(Dropout(0.3))\n",
    "model.add(LSTM(100))\n",
    "model.add(Dropout(0.3))\n",
    "model.add(Dense(1,activation='sigmoid'))\n",
    "model.compile(loss='binary_crossentropy',optimizer='adam',metrics=['accuracy'])\n",
    "\n",
    "X_final=np.array(embedded_docs)\n",
    "y_final=np.array(tweets['airline_sentiment'])\n",
    "X_final.shape,y_final.shape"
   ]
  },
  {
   "cell_type": "code",
   "execution_count": 22,
   "id": "c0b6f90f",
   "metadata": {},
   "outputs": [
    {
     "name": "stdout",
     "output_type": "stream",
     "text": [
      "Epoch 1/10\n",
      "121/121 [==============================] - 27s 193ms/step - loss: 0.4601 - accuracy: 0.8101 - val_loss: 0.3371 - val_accuracy: 0.8530\n",
      "Epoch 2/10\n",
      "121/121 [==============================] - 26s 214ms/step - loss: 0.2754 - accuracy: 0.8854 - val_loss: 0.2814 - val_accuracy: 0.8811\n",
      "Epoch 3/10\n",
      "121/121 [==============================] - 29s 237ms/step - loss: 0.2006 - accuracy: 0.9215 - val_loss: 0.2917 - val_accuracy: 0.8876\n",
      "Epoch 4/10\n",
      "121/121 [==============================] - 24s 194ms/step - loss: 0.1631 - accuracy: 0.9386 - val_loss: 0.3161 - val_accuracy: 0.8855\n",
      "Epoch 5/10\n",
      "121/121 [==============================] - 25s 203ms/step - loss: 0.1354 - accuracy: 0.9496 - val_loss: 0.3437 - val_accuracy: 0.8777\n",
      "Epoch 6/10\n",
      "121/121 [==============================] - 27s 220ms/step - loss: 0.1165 - accuracy: 0.9584 - val_loss: 0.3558 - val_accuracy: 0.8766\n",
      "Epoch 7/10\n",
      "121/121 [==============================] - 26s 213ms/step - loss: 0.0991 - accuracy: 0.9646 - val_loss: 0.3789 - val_accuracy: 0.8742\n",
      "Epoch 8/10\n",
      "121/121 [==============================] - 24s 200ms/step - loss: 0.0871 - accuracy: 0.9692 - val_loss: 0.4603 - val_accuracy: 0.8769\n",
      "Epoch 9/10\n",
      "121/121 [==============================] - 27s 221ms/step - loss: 0.0773 - accuracy: 0.9721 - val_loss: 0.4862 - val_accuracy: 0.8651\n",
      "Epoch 10/10\n",
      "121/121 [==============================] - 25s 205ms/step - loss: 0.0685 - accuracy: 0.9750 - val_loss: 0.5233 - val_accuracy: 0.8687\n"
     ]
    },
    {
     "data": {
      "text/plain": [
       "<keras.callbacks.History at 0x287ef917e80>"
      ]
     },
     "execution_count": 22,
     "metadata": {},
     "output_type": "execute_result"
    }
   ],
   "source": [
    "X_train, X_test, y_train, y_test = train_test_split(X_final, y_final, test_size=0.33, random_state=42)\n",
    "model.fit(X_train,y_train,validation_data=(X_test,y_test),epochs=10,batch_size=64)"
   ]
  },
  {
   "cell_type": "code",
   "execution_count": 24,
   "id": "3be02622",
   "metadata": {},
   "outputs": [
    {
     "name": "stdout",
     "output_type": "stream",
     "text": [
      "120/120 [==============================] - 6s 39ms/step\n",
      "242/242 [==============================] - 9s 38ms/step\n"
     ]
    }
   ],
   "source": [
    "\n",
    "y_test_pred=model.predict(X_test)\n",
    "y_train_pred=model.predict(X_train)\n"
   ]
  },
  {
   "cell_type": "markdown",
   "id": "2d406da9",
   "metadata": {},
   "source": [
    "# Final Results"
   ]
  },
  {
   "cell_type": "code",
   "execution_count": 27,
   "id": "06f884f5",
   "metadata": {},
   "outputs": [
    {
     "data": {
      "text/html": [
       "<div>\n",
       "<style scoped>\n",
       "    .dataframe tbody tr th:only-of-type {\n",
       "        vertical-align: middle;\n",
       "    }\n",
       "\n",
       "    .dataframe tbody tr th {\n",
       "        vertical-align: top;\n",
       "    }\n",
       "\n",
       "    .dataframe thead th {\n",
       "        text-align: right;\n",
       "    }\n",
       "</style>\n",
       "<table border=\"1\" class=\"dataframe\">\n",
       "  <thead>\n",
       "    <tr style=\"text-align: right;\">\n",
       "      <th></th>\n",
       "      <th>Train Accuracy</th>\n",
       "      <th>Test Accuracy</th>\n",
       "      <th>Train ROC</th>\n",
       "      <th>Test ROC</th>\n",
       "    </tr>\n",
       "    <tr>\n",
       "      <th>Model Name</th>\n",
       "      <th></th>\n",
       "      <th></th>\n",
       "      <th></th>\n",
       "      <th></th>\n",
       "    </tr>\n",
       "  </thead>\n",
       "  <tbody>\n",
       "    <tr>\n",
       "      <th>Random Forest</th>\n",
       "      <td>0.996418</td>\n",
       "      <td>0.880111</td>\n",
       "      <td>0.998244</td>\n",
       "      <td>0.895687</td>\n",
       "    </tr>\n",
       "    <tr>\n",
       "      <th>MultinomialNB</th>\n",
       "      <td>0.850029</td>\n",
       "      <td>0.834026</td>\n",
       "      <td>0.956111</td>\n",
       "      <td>0.901301</td>\n",
       "    </tr>\n",
       "    <tr>\n",
       "      <th>Bagged MultinomialNB</th>\n",
       "      <td>0.846101</td>\n",
       "      <td>0.832640</td>\n",
       "      <td>0.952048</td>\n",
       "      <td>0.899719</td>\n",
       "    </tr>\n",
       "    <tr>\n",
       "      <th>AdaBoost</th>\n",
       "      <td>0.859965</td>\n",
       "      <td>0.861400</td>\n",
       "      <td>0.868948</td>\n",
       "      <td>0.837380</td>\n",
       "    </tr>\n",
       "    <tr>\n",
       "      <th>AdaBoost Optimized</th>\n",
       "      <td>0.868631</td>\n",
       "      <td>0.866597</td>\n",
       "      <td>0.921855</td>\n",
       "      <td>0.877934</td>\n",
       "    </tr>\n",
       "    <tr>\n",
       "      <th>Gaussian Naive Bayes</th>\n",
       "      <td>0.848411</td>\n",
       "      <td>0.694733</td>\n",
       "      <td>0.904303</td>\n",
       "      <td>0.688587</td>\n",
       "    </tr>\n",
       "    <tr>\n",
       "      <th>SVM</th>\n",
       "      <td>0.978972</td>\n",
       "      <td>0.886348</td>\n",
       "      <td>0.996906</td>\n",
       "      <td>0.929149</td>\n",
       "    </tr>\n",
       "    <tr>\n",
       "      <th>SVM Optimized</th>\n",
       "      <td>0.996418</td>\n",
       "      <td>0.897436</td>\n",
       "      <td>0.998731</td>\n",
       "      <td>0.928753</td>\n",
       "    </tr>\n",
       "  </tbody>\n",
       "</table>\n",
       "</div>"
      ],
      "text/plain": [
       "                      Train Accuracy  Test Accuracy  Train ROC  Test ROC\n",
       "Model Name                                                              \n",
       "Random Forest               0.996418       0.880111   0.998244  0.895687\n",
       "MultinomialNB               0.850029       0.834026   0.956111  0.901301\n",
       "Bagged MultinomialNB        0.846101       0.832640   0.952048  0.899719\n",
       "AdaBoost                    0.859965       0.861400   0.868948  0.837380\n",
       "AdaBoost Optimized          0.868631       0.866597   0.921855  0.877934\n",
       "Gaussian Naive Bayes        0.848411       0.694733   0.904303  0.688587\n",
       "SVM                         0.978972       0.886348   0.996906  0.929149\n",
       "SVM Optimized               0.996418       0.897436   0.998731  0.928753"
      ]
     },
     "execution_count": 27,
     "metadata": {},
     "output_type": "execute_result"
    }
   ],
   "source": [
    "data = [('Random Forest', r_train_accuracy, r_test_accuracy, r_train_auc, r_test_auc),\n",
    " ('MultinomialNB',m_train_accuracy, m_test_accuracy, m_train_auc, m_test_auc  ),\n",
    "('Bagged MultinomialNB',b_train_accuracy, b_test_accuracy, b_train_auc, b_test_auc ),\n",
    " ('AdaBoost',a_train_accuracy, a_test_accuracy, a_train_auc, a_test_auc ),\n",
    "('AdaBoost Optimized',ao_train_accuracy, ao_test_accuracy, ao_train_auc, ao_test_auc),\n",
    "('Gaussian Naive Bayes',g_train_accuracy, g_test_accuracy, g_train_auc, g_test_auc),\n",
    "('SVM', s_train_accuracy, s_test_accuracy, s_train_auc, s_test_auc),\n",
    "('SVM Optimized', so_train_accuracy, so_test_accuracy, so_train_auc, so_test_auc),\n",
    "]\n",
    "\n",
    "\n",
    "Scores_ =pd.DataFrame(data = data, columns=['Model Name','Train Accuracy', 'Test Accuracy', 'Train ROC', 'Test ROC'])\n",
    "Scores_.set_index('Model Name', inplace = True)\n",
    "\n",
    "Scores_"
   ]
  },
  {
   "cell_type": "markdown",
   "id": "fe312573",
   "metadata": {},
   "source": [
    "# Conclusion"
   ]
  },
  {
   "cell_type": "markdown",
   "id": "6330a53c",
   "metadata": {},
   "source": [
    "Most of the models are doing pretty well here"
   ]
  },
  {
   "cell_type": "code",
   "execution_count": null,
   "id": "209e56a0",
   "metadata": {},
   "outputs": [],
   "source": []
  },
  {
   "cell_type": "code",
   "execution_count": null,
   "id": "b3817f9d",
   "metadata": {},
   "outputs": [],
   "source": []
  },
  {
   "cell_type": "code",
   "execution_count": null,
   "id": "afbd69ed",
   "metadata": {},
   "outputs": [],
   "source": []
  },
  {
   "cell_type": "code",
   "execution_count": null,
   "id": "594286bc",
   "metadata": {},
   "outputs": [],
   "source": []
  },
  {
   "cell_type": "code",
   "execution_count": null,
   "id": "7e328edd",
   "metadata": {},
   "outputs": [],
   "source": []
  },
  {
   "cell_type": "code",
   "execution_count": null,
   "id": "a0430606",
   "metadata": {},
   "outputs": [],
   "source": []
  },
  {
   "cell_type": "code",
   "execution_count": null,
   "id": "0994621c",
   "metadata": {},
   "outputs": [],
   "source": []
  },
  {
   "cell_type": "code",
   "execution_count": null,
   "id": "1502d6d2",
   "metadata": {},
   "outputs": [],
   "source": []
  },
  {
   "cell_type": "code",
   "execution_count": null,
   "id": "46bf2bf4",
   "metadata": {},
   "outputs": [],
   "source": []
  }
 ],
 "metadata": {
  "kernelspec": {
   "display_name": "Python 3 (ipykernel)",
   "language": "python",
   "name": "python3"
  },
  "language_info": {
   "codemirror_mode": {
    "name": "ipython",
    "version": 3
   },
   "file_extension": ".py",
   "mimetype": "text/x-python",
   "name": "python",
   "nbconvert_exporter": "python",
   "pygments_lexer": "ipython3",
   "version": "3.9.7"
  }
 },
 "nbformat": 4,
 "nbformat_minor": 5
}
